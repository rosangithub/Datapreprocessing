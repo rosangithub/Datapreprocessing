{
  "nbformat": 4,
  "nbformat_minor": 0,
  "metadata": {
    "colab": {
      "provenance": [],
      "authorship_tag": "ABX9TyO4qSPjjE0h5TPeHUq3d0yG",
      "include_colab_link": true
    },
    "kernelspec": {
      "name": "python3",
      "display_name": "Python 3"
    },
    "language_info": {
      "name": "python"
    }
  },
  "cells": [
    {
      "cell_type": "markdown",
      "metadata": {
        "id": "view-in-github",
        "colab_type": "text"
      },
      "source": [
        "<a href=\"https://colab.research.google.com/github/rosangithub/Datapreprocessing/blob/main/rosan_KNN_classifier.ipynb\" target=\"_parent\"><img src=\"https://colab.research.google.com/assets/colab-badge.svg\" alt=\"Open In Colab\"/></a>"
      ]
    },
    {
      "cell_type": "markdown",
      "source": [
        "# Lab on  KNN Classifier\n"
      ],
      "metadata": {
        "id": "PlAuZvjzIsZF"
      }
    },
    {
      "cell_type": "markdown",
      "source": [],
      "metadata": {
        "id": "i4J26SawJBUB"
      }
    },
    {
      "cell_type": "markdown",
      "source": [
        "This is the introductory session on colob\n"
      ],
      "metadata": {
        "id": "jDNiLREpJLmx"
      }
    },
    {
      "cell_type": "code",
      "source": [
        "import numpy as np\n"
      ],
      "metadata": {
        "id": "FOkpJxGNJTnd"
      },
      "execution_count": null,
      "outputs": []
    },
    {
      "cell_type": "markdown",
      "source": [
        "**dataset defining**"
      ],
      "metadata": {
        "id": "5YOoyEvfJly2"
      }
    },
    {
      "cell_type": "code",
      "source": [
        "#training data\n",
        "x_train=np.array([\n",
        "    [2.0,3.0],\n",
        "    [1.0,1.0],\n",
        "    [2.5,2.0],\n",
        "    [6.0,6.0],\n",
        "    [7.0,7.0],\n",
        "    [5.5,5.5],\n",
        "])\n",
        "\n"
      ],
      "metadata": {
        "id": "1NUVRq3PJcrn"
      },
      "execution_count": null,
      "outputs": []
    },
    {
      "cell_type": "code",
      "source": [
        "#labels\n",
        "y_train=np.array([0,0,0,1,1,1])"
      ],
      "metadata": {
        "id": "emBVd8SFKiLD"
      },
      "execution_count": null,
      "outputs": []
    },
    {
      "cell_type": "code",
      "source": [
        "#new data point to classify\n",
        "X_new=np.array([3.0,3.0])"
      ],
      "metadata": {
        "id": "EMv6QvJCK3Ks"
      },
      "execution_count": null,
      "outputs": []
    },
    {
      "cell_type": "code",
      "source": [
        "print(x_train)"
      ],
      "metadata": {
        "colab": {
          "base_uri": "https://localhost:8080/"
        },
        "id": "2ijTHt8gK8c2",
        "outputId": "551fb881-b3bc-41db-954f-a26604abd90f"
      },
      "execution_count": null,
      "outputs": [
        {
          "output_type": "stream",
          "name": "stdout",
          "text": [
            "[[2.  3. ]\n",
            " [1.  1. ]\n",
            " [2.5 2. ]\n",
            " [6.  6. ]\n",
            " [7.  7. ]\n",
            " [5.5 5.5]]\n"
          ]
        }
      ]
    },
    {
      "cell_type": "code",
      "source": [
        "for i in range(5):\n",
        "  print(x_train[i][0])"
      ],
      "metadata": {
        "colab": {
          "base_uri": "https://localhost:8080/"
        },
        "id": "BPgW_ah4LQtc",
        "outputId": "75305e3c-5633-4f18-fbb8-ea79f4e5f0f9"
      },
      "execution_count": null,
      "outputs": [
        {
          "output_type": "stream",
          "name": "stdout",
          "text": [
            "2.0\n",
            "1.0\n",
            "2.5\n",
            "6.0\n",
            "7.0\n"
          ]
        }
      ]
    },
    {
      "cell_type": "code",
      "source": [
        "for i in range(len(x_train)):\n",
        "  print(x_train[i][0])"
      ],
      "metadata": {
        "colab": {
          "base_uri": "https://localhost:8080/"
        },
        "id": "HL4Ut3deLkn0",
        "outputId": "3e8e95d6-5cce-46be-9cc3-4716589fa058"
      },
      "execution_count": null,
      "outputs": [
        {
          "output_type": "stream",
          "name": "stdout",
          "text": [
            "2.0\n",
            "1.0\n",
            "2.5\n",
            "6.0\n",
            "7.0\n",
            "5.5\n"
          ]
        }
      ]
    },
    {
      "cell_type": "code",
      "source": [
        "def euclidean_distance(p1,p2):\n",
        "  return np.sqrt(np.sum(p1-p2)**2)"
      ],
      "metadata": {
        "id": "u8n281e9ML89"
      },
      "execution_count": null,
      "outputs": []
    },
    {
      "cell_type": "code",
      "source": [
        "from re import X\n",
        "def get_neighbors(x_train,y_train,X_new,k):\n",
        "  distances=[]\n",
        "  for i in range(len(x_train)):\n",
        "    dist=euclidean_distance(x_train[i],X_new)\n",
        "    distances.append((dist,y_train[i]))\n",
        "  #sort distance in acending order\n",
        "  distances.sort(key=lambda x:x[0])\n",
        "\n",
        "  #get the labels of the k nearest neighbors\n",
        "  neighbors=[distances[i][1] for i in range(k)]\n",
        "  return neighbors"
      ],
      "metadata": {
        "id": "SadDkZfdM2wg"
      },
      "execution_count": null,
      "outputs": []
    },
    {
      "cell_type": "code",
      "source": [
        "def predict(x_train,y_train,X_new,k):\n",
        "  neighbors=get_neighbors(x_train,y_train,X_new,k)\n",
        "  #count the occurrences if each class in the neighbors\n",
        "  counts=np.bincount(neighbors)\n",
        "  #return the class with the heighest count\n",
        "  return np.argmax(counts)"
      ],
      "metadata": {
        "id": "91cB_WEXNrGK"
      },
      "execution_count": null,
      "outputs": []
    },
    {
      "cell_type": "code",
      "source": [
        "X_new=np.array([3.0,3.0])\n",
        "k=3\n",
        "predicted_label=predict(x_train,y_train,X_new,k)\n",
        "print(f\"Predicted label for {X_new} is {predicted_label}\")"
      ],
      "metadata": {
        "colab": {
          "base_uri": "https://localhost:8080/"
        },
        "id": "fqISLdkMN-R_",
        "outputId": "95c6d986-a421-49fd-f5df-2cc2c0a767b1"
      },
      "execution_count": null,
      "outputs": [
        {
          "output_type": "stream",
          "name": "stdout",
          "text": [
            "Predicted label for [3. 3.] is 0\n"
          ]
        }
      ]
    },
    {
      "cell_type": "code",
      "source": [
        "import matplotlib.pyplot as plt\n"
      ],
      "metadata": {
        "id": "QoOoEkKTOsyA"
      },
      "execution_count": null,
      "outputs": []
    },
    {
      "cell_type": "code",
      "source": [
        "for label in np.unique(y_train):\n",
        "  plt.scatter(x_train[y_train==label][:,0],x_train[y_train==label][:,1],label=f\"Class{label}\")\n",
        "plt.scatter(X_new[0],X_new[1],color='red',label=\"new point\" ,marker='x',s=100)\n",
        "plt.xlabel(\"x1\")\n",
        "plt.xlabel(\"x2\")\n",
        "plt.legend()\n",
        "plt.title(\"KNN classifier visulization\")\n",
        "plt.show()"
      ],
      "metadata": {
        "colab": {
          "base_uri": "https://localhost:8080/",
          "height": 472
        },
        "id": "MvfWqsroSHAf",
        "outputId": "516d026d-d900-4213-9ec2-092dd328b2e3"
      },
      "execution_count": null,
      "outputs": [
        {
          "output_type": "display_data",
          "data": {
            "text/plain": [
              "<Figure size 640x480 with 1 Axes>"
            ],
            "image/png": "[encoded data removed]"
          },
          "metadata": {}
        }
      ]
    },
    {
      "cell_type": "code",
      "source": [],
      "metadata": {
        "id": "Pc7VVJPHS9j3"
      },
      "execution_count": null,
      "outputs": []
    }
  ]
}